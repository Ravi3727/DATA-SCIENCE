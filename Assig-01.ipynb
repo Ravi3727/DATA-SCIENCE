{
 "cells": [
  {
   "cell_type": "code",
   "execution_count": 7,
   "id": "152a9980-a17a-4563-9790-146ae591c12e",
   "metadata": {},
   "outputs": [
    {
     "name": "stdout",
     "output_type": "stream",
     "text": [
      "<class 'str'>\n"
     ]
    }
   ],
   "source": [
    "#Q1. Create one variable containing following type of data:\n",
    "a = \"Ravi\"\n",
    "print(type(a))"
   ]
  },
  {
   "cell_type": "code",
   "execution_count": 4,
   "id": "aa87f139-84f3-4b6f-a3b5-384f4a1b90e5",
   "metadata": {},
   "outputs": [
    {
     "name": "stdout",
     "output_type": "stream",
     "text": [
      "<class 'list'>\n"
     ]
    }
   ],
   "source": [
    "a = [\"Ravi\",\"Kant\",23,\"Ravi44554\"]\n",
    "print(type(a))"
   ]
  },
  {
   "cell_type": "code",
   "execution_count": 5,
   "id": "41a1f2b7-0d29-47d2-9dd9-dc84d69d5134",
   "metadata": {},
   "outputs": [
    {
     "name": "stdout",
     "output_type": "stream",
     "text": [
      "<class 'float'>\n"
     ]
    }
   ],
   "source": [
    "a = 3.146\n",
    "print(type(a))"
   ]
  },
  {
   "cell_type": "code",
   "execution_count": 6,
   "id": "2e1cca7f-fbc9-4c57-ad28-adf1dd9bb1d0",
   "metadata": {},
   "outputs": [
    {
     "name": "stdout",
     "output_type": "stream",
     "text": [
      "<class 'tuple'>\n"
     ]
    }
   ],
   "source": [
    "a = (\"Ravi\",\"Kant\",23,\"Ravi44554\")\n",
    "print(type(a))"
   ]
  },
  {
   "cell_type": "code",
   "execution_count": null,
   "id": "77c7fea9-e51c-4c9b-a1d0-90603efb7486",
   "metadata": {},
   "outputs": [],
   "source": [
    "#Q2. Given are some following variables containing data:\n",
    "#(i) var1 = ‘ ‘                                           -----> string\n",
    "#(ii) var2 = ‘[ DS , ML , Python]’                        -----> string\n",
    "#(iii) var3 = [ ‘DS’ , ’ML’ , ‘Python’ ]                  -----> List\n",
    "#(iv) var4 = 1.                                           -----> Integer\n",
    "#What will be the data type of the above given variable.  "
   ]
  },
  {
   "cell_type": "code",
   "execution_count": 10,
   "id": "9e536cd0-59e9-4d4c-9eb4-185adde07a83",
   "metadata": {},
   "outputs": [
    {
     "name": "stdout",
     "output_type": "stream",
     "text": [
      "<class 'str'>\n"
     ]
    }
   ],
   "source": [
    "#Q3. Explain the use of the following operators using an example:\n",
    "#(i) /     ------> Qu\n",
    "#(ii) %    ------> Reminder\n",
    "#(iii) //  ------> To perform floor division.\n",
    "#(iv) **   ------> Works as an exponentiation operator"
   ]
  },
  {
   "cell_type": "code",
   "execution_count": 11,
   "id": "6971bccf-2c81-477a-832c-ef4728abfc4b",
   "metadata": {},
   "outputs": [
    {
     "name": "stdout",
     "output_type": "stream",
     "text": [
      "Ravi\n",
      "<class 'str'>\n",
      "Kant\n",
      "<class 'str'>\n",
      "12\n",
      "<class 'int'>\n",
      "A\n",
      "<class 'str'>\n",
      "12.232\n",
      "<class 'float'>\n",
      "{'Hello'}\n",
      "<class 'set'>\n",
      "World\n",
      "<class 'str'>\n",
      "2331187\n",
      "<class 'int'>\n",
      "Thanks To PW\n",
      "<class 'str'>\n",
      "@@#$%$$$\n",
      "<class 'str'>\n"
     ]
    }
   ],
   "source": [
    "#Q4. Create a list of length 10 of your choice containing multiple types of data. Using for loop print the\n",
    "#element and its data type.\n",
    "\n",
    "mylist = [\"Ravi\",\"Kant\",12,'A',12.232,{\"Hello\"},(\"World\"),2331187,\"Thanks To PW\",'@@#$%$$$']\n",
    "\n",
    "for x in mylist:\n",
    "  print(x)\n",
    "  print(type(x))"
   ]
  },
  {
   "cell_type": "code",
   "execution_count": 17,
   "id": "0ea33b39-248a-4bb7-bb5e-4fcda3652743",
   "metadata": {},
   "outputs": [
    {
     "name": "stdout",
     "output_type": "stream",
     "text": [
      "25.0 is divisible by 2 and can be divided 2 times.\n"
     ]
    }
   ],
   "source": [
    "#Q5. Using a while loop, verify if the number A is purely divisible by number B and if so then how many\n",
    "#times it can be divisible.\n",
    "A = 100\n",
    "B = 2\n",
    "\n",
    "count = 0  # Initialize the count\n",
    "\n",
    "while A % B == 0:\n",
    "    A /= B\n",
    "    count += 1\n",
    "\n",
    "if count > 0:\n",
    "    print(f\"{A} is divisible by {B} and can be divided {count} times.\")\n",
    "else:\n",
    "    print(f\"{A} is not divisible by {B}.\")"
   ]
  },
  {
   "cell_type": "code",
   "execution_count": 18,
   "id": "8e7c471b-b0b6-441d-b199-377b1400b6f4",
   "metadata": {},
   "outputs": [
    {
     "name": "stdout",
     "output_type": "stream",
     "text": [
      "12 is divisible by 3.\n",
      "7 is not divisible by 3.\n",
      "15 is divisible by 3.\n",
      "9 is divisible by 3.\n",
      "30 is divisible by 3.\n",
      "21 is divisible by 3.\n",
      "8 is not divisible by 3.\n",
      "6 is divisible by 3.\n",
      "18 is divisible by 3.\n",
      "13 is not divisible by 3.\n",
      "27 is divisible by 3.\n",
      "14 is not divisible by 3.\n",
      "10 is not divisible by 3.\n",
      "24 is divisible by 3.\n",
      "11 is not divisible by 3.\n",
      "5 is not divisible by 3.\n",
      "36 is divisible by 3.\n",
      "22 is not divisible by 3.\n",
      "16 is not divisible by 3.\n",
      "33 is divisible by 3.\n",
      "19 is not divisible by 3.\n",
      "4 is not divisible by 3.\n",
      "25 is not divisible by 3.\n",
      "17 is not divisible by 3.\n",
      "20 is not divisible by 3.\n"
     ]
    }
   ],
   "source": [
    "#Q6. Create a list containing 25 int type data. Using for loop and if-else condition print if the element is\n",
    "#divisible by 3 or not.\n",
    "\n",
    "numbers = [12, 7, 15, 9, 30, 21, 8, 6, 18, 13, 27, 14, 10, 24, 11, 5, 36, 22, 16, 33, 19, 4, 25, 17, 20]\n",
    "\n",
    "# Iterate over the list using a for loop\n",
    "for num in numbers:\n",
    "    if num % 3 == 0:\n",
    "        print(f\"{num} is divisible by 3.\")\n",
    "    else:\n",
    "        print(f\"{num} is not divisible by 3.\")"
   ]
  },
  {
   "cell_type": "code",
   "execution_count": 19,
   "id": "e71068c7-b1eb-4fcf-bd5d-a9cca95db4d8",
   "metadata": {},
   "outputs": [],
   "source": [
    "#Immutable data types, like strings and tuples, cannot be modified once created, ensuring data integrity.\n",
    "#Mutable data types, such as lists and dictionaries, can be modified, allowing flexibility. Immutable objects are useful for scenarios where changes should be avoided, while mutable objects are advantageous when dynamic modifications are required.\n",
    "#Understanding the distinction helps in selecting appropriate data types for specific needs.\n",
    "\n",
    "#Example of an immutable data type:\n",
    "\n",
    "#String: Once a string is created, its value cannot be changed. For example:\n",
    "\n",
    "name = \"John\"\n",
    "# Attempting to modify the string will result in creating a new string\n",
    "new_name = name + \" Doe\"\n",
    "\n",
    "\n",
    "#Example of a mutable data type:\n",
    "\n",
    "#List: Lists can be modified by adding, removing, or modifying elements. For example:\n",
    "\n",
    "numbers = [1, 2, 3]\n",
    "numbers[0] = 10  # Modifying an element in the list\n",
    "numbers.append(4)  # Adding an element to the list"
   ]
  },
  {
   "cell_type": "code",
   "execution_count": null,
   "id": "5b331da0-b02d-4e0d-b956-45d8beeeb106",
   "metadata": {},
   "outputs": [],
   "source": []
  }
 ],
 "metadata": {
  "kernelspec": {
   "display_name": "Python 3 (ipykernel)",
   "language": "python",
   "name": "python3"
  },
  "language_info": {
   "codemirror_mode": {
    "name": "ipython",
    "version": 3
   },
   "file_extension": ".py",
   "mimetype": "text/x-python",
   "name": "python",
   "nbconvert_exporter": "python",
   "pygments_lexer": "ipython3",
   "version": "3.10.8"
  }
 },
 "nbformat": 4,
 "nbformat_minor": 5
}
